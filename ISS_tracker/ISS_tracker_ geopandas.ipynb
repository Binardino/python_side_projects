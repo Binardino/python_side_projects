{
 "cells": [
  {
   "cell_type": "code",
   "execution_count": 1,
   "metadata": {},
   "outputs": [],
   "source": [
    "import geopandas as gpd\n",
    "import pandas as pd\n",
    "import numpy as np\n",
    "import matplotlib.pyplot as plt\n",
    "import seaborn as sns\n",
    "import requests\n",
    "import time\n",
    "import requests_cache \n",
    "import time\n",
    "from IPython.core.display import clear_output"
   ]
  },
  {
   "cell_type": "code",
   "execution_count": 5,
   "metadata": {},
   "outputs": [],
   "source": [
    "# keeping data from API calls into cache\n",
    "requests_cache.install_cache()"
   ]
  },
  {
   "cell_type": "markdown",
   "metadata": {},
   "source": [
    "**Who's in the ISS right now ?**"
   ]
  },
  {
   "cell_type": "code",
   "execution_count": 2,
   "metadata": {},
   "outputs": [
    {
     "data": {
      "text/plain": [
       "200"
      ]
     },
     "execution_count": 2,
     "metadata": {},
     "output_type": "execute_result"
    }
   ],
   "source": [
    "astronaut_api = requests.get(\"http://api.open-notify.org/astros.json\")\n",
    "\n",
    "astronaut_api.status_code"
   ]
  },
  {
   "cell_type": "code",
   "execution_count": 3,
   "metadata": {},
   "outputs": [
    {
     "data": {
      "text/plain": [
       "{'message': 'success',\n",
       " 'number': 5,\n",
       " 'people': [{'craft': 'ISS', 'name': 'Chris Cassidy'},\n",
       "  {'craft': 'ISS', 'name': 'Anatoly Ivanishin'},\n",
       "  {'craft': 'ISS', 'name': 'Ivan Vagner'},\n",
       "  {'craft': 'ISS', 'name': 'Doug Hurley'},\n",
       "  {'craft': 'ISS', 'name': 'Bob Behnken'}]}"
      ]
     },
     "execution_count": 3,
     "metadata": {},
     "output_type": "execute_result"
    }
   ],
   "source": [
    "iss_person = astronaut_api.json()\n",
    "iss_person"
   ]
  },
  {
   "cell_type": "code",
   "execution_count": 4,
   "metadata": {},
   "outputs": [
    {
     "name": "stdout",
     "output_type": "stream",
     "text": [
      "Currently there are  5  people in space\n"
     ]
    }
   ],
   "source": [
    "print('Currently there are ', iss_person['number'], ' people in space')"
   ]
  },
  {
   "cell_type": "code",
   "execution_count": 7,
   "metadata": {},
   "outputs": [
    {
     "name": "stdout",
     "output_type": "stream",
     "text": [
      "The rocket is on the launch pad - looking for ISS location\n",
      "ISS API call - request# 2159/2160\n"
     ]
    }
   ],
   "source": [
    "# Create a loop to get the ISS info over 10 minutes every 5 seconds\n",
    "\n",
    "ISS_loc = []\n",
    "count = 0\n",
    "while count <2160:\n",
    "    print('The rocket is on the launch pad - looking for ISS location')\n",
    "    print(f'ISS API call - request# {count}/2160')\n",
    "    #API call\n",
    "    \n",
    "    # clear the output of each print to make things neater\n",
    "    clear_output(wait = True)\n",
    "    \n",
    "    response = requests.get('http://api.open-notify.org/iss-now.json')\n",
    "    status = response.status_code\n",
    "    \n",
    "    #print status code\n",
    "    if status != 200:\n",
    "        print(f'API call crashes - code is {status}')\n",
    "    else:\n",
    "        resp = response.json()\n",
    "        #append each API response to ISS_loc list\n",
    "        ISS_loc.append(resp)\n",
    "        \n",
    "        #10 sec pause btw each API call - allows ISS to move slightly\n",
    "        time.sleep(5)\n",
    "        \n",
    "        count += 1"
   ]
  },
  {
   "cell_type": "code",
   "execution_count": 10,
   "metadata": {},
   "outputs": [
    {
     "data": {
      "text/plain": [
       "[{'timestamp': 1591262419,\n",
       "  'message': 'success',\n",
       "  'iss_position': {'latitude': '41.7587', 'longitude': '63.4514'}},\n",
       " {'timestamp': 1591262419,\n",
       "  'message': 'success',\n",
       "  'iss_position': {'latitude': '41.7587', 'longitude': '63.4514'}},\n",
       " {'timestamp': 1591262419,\n",
       "  'message': 'success',\n",
       "  'iss_position': {'latitude': '41.7587', 'longitude': '63.4514'}},\n",
       " {'timestamp': 1591262419,\n",
       "  'message': 'success',\n",
       "  'iss_position': {'latitude': '41.7587', 'longitude': '63.4514'}},\n",
       " {'timestamp': 1591262419,\n",
       "  'message': 'success',\n",
       "  'iss_position': {'latitude': '41.7587', 'longitude': '63.4514'}}]"
      ]
     },
     "execution_count": 10,
     "metadata": {},
     "output_type": "execute_result"
    }
   ],
   "source": [
    "ISS_loc[:5]"
   ]
  },
  {
   "cell_type": "code",
   "execution_count": 11,
   "metadata": {},
   "outputs": [
    {
     "data": {
      "text/plain": [
       "{'timestamp': 1591262419,\n",
       " 'message': 'success',\n",
       " 'iss_position': {'latitude': '41.7587', 'longitude': '63.4514'}}"
      ]
     },
     "execution_count": 11,
     "metadata": {},
     "output_type": "execute_result"
    }
   ],
   "source": [
    "ISS_loc[5]"
   ]
  },
  {
   "cell_type": "code",
   "execution_count": 13,
   "metadata": {},
   "outputs": [],
   "source": [
    "#initializing empty dict to populate\n",
    "ISS_dict = {'latitude':None, 'longitude':None, 'timestamp':None}\n",
    "\n",
    "# Initialize empty lists to populate with values from the API\n",
    "lat_list = []\n",
    "long_list = []\n",
    "time_list = []\n",
    "\n",
    "for i in range(len(ISS_loc)):\n",
    "    lat_list.append(ISS_loc[i]['iss_position']['latitude'])\n",
    "    long_list.append(ISS_loc[i]['iss_position']['longitude'])\n",
    "    time_list.append(ISS_loc[i]['timestamp'])\n",
    "\n",
    "#populate ISS dict\n",
    "ISS_dict['latitude'] = lat_list\n",
    "ISS_dict['longitude'] = long_list\n",
    "ISS_dict['timestamp'] = time_list"
   ]
  },
  {
   "cell_type": "code",
   "execution_count": 20,
   "metadata": {},
   "outputs": [],
   "source": [
    "ISS_df = pd.DataFrame(ISS_dict)"
   ]
  },
  {
   "cell_type": "code",
   "execution_count": 21,
   "metadata": {},
   "outputs": [
    {
     "data": {
      "text/html": [
       "<div>\n",
       "<style scoped>\n",
       "    .dataframe tbody tr th:only-of-type {\n",
       "        vertical-align: middle;\n",
       "    }\n",
       "\n",
       "    .dataframe tbody tr th {\n",
       "        vertical-align: top;\n",
       "    }\n",
       "\n",
       "    .dataframe thead th {\n",
       "        text-align: right;\n",
       "    }\n",
       "</style>\n",
       "<table border=\"1\" class=\"dataframe\">\n",
       "  <thead>\n",
       "    <tr style=\"text-align: right;\">\n",
       "      <th></th>\n",
       "      <th>latitude</th>\n",
       "      <th>longitude</th>\n",
       "      <th>timestamp</th>\n",
       "    </tr>\n",
       "  </thead>\n",
       "  <tbody>\n",
       "    <tr>\n",
       "      <th>0</th>\n",
       "      <td>41.7587</td>\n",
       "      <td>63.4514</td>\n",
       "      <td>1591262419</td>\n",
       "    </tr>\n",
       "    <tr>\n",
       "      <th>1</th>\n",
       "      <td>41.7587</td>\n",
       "      <td>63.4514</td>\n",
       "      <td>1591262419</td>\n",
       "    </tr>\n",
       "    <tr>\n",
       "      <th>2</th>\n",
       "      <td>41.7587</td>\n",
       "      <td>63.4514</td>\n",
       "      <td>1591262419</td>\n",
       "    </tr>\n",
       "    <tr>\n",
       "      <th>3</th>\n",
       "      <td>41.7587</td>\n",
       "      <td>63.4514</td>\n",
       "      <td>1591262419</td>\n",
       "    </tr>\n",
       "    <tr>\n",
       "      <th>4</th>\n",
       "      <td>41.7587</td>\n",
       "      <td>63.4514</td>\n",
       "      <td>1591262419</td>\n",
       "    </tr>\n",
       "    <tr>\n",
       "      <th>...</th>\n",
       "      <td>...</td>\n",
       "      <td>...</td>\n",
       "      <td>...</td>\n",
       "    </tr>\n",
       "    <tr>\n",
       "      <th>2155</th>\n",
       "      <td>41.7587</td>\n",
       "      <td>63.4514</td>\n",
       "      <td>1591262419</td>\n",
       "    </tr>\n",
       "    <tr>\n",
       "      <th>2156</th>\n",
       "      <td>41.7587</td>\n",
       "      <td>63.4514</td>\n",
       "      <td>1591262419</td>\n",
       "    </tr>\n",
       "    <tr>\n",
       "      <th>2157</th>\n",
       "      <td>41.7587</td>\n",
       "      <td>63.4514</td>\n",
       "      <td>1591262419</td>\n",
       "    </tr>\n",
       "    <tr>\n",
       "      <th>2158</th>\n",
       "      <td>41.7587</td>\n",
       "      <td>63.4514</td>\n",
       "      <td>1591262419</td>\n",
       "    </tr>\n",
       "    <tr>\n",
       "      <th>2159</th>\n",
       "      <td>41.7587</td>\n",
       "      <td>63.4514</td>\n",
       "      <td>1591262419</td>\n",
       "    </tr>\n",
       "  </tbody>\n",
       "</table>\n",
       "<p>2160 rows × 3 columns</p>\n",
       "</div>"
      ],
      "text/plain": [
       "     latitude longitude   timestamp\n",
       "0     41.7587   63.4514  1591262419\n",
       "1     41.7587   63.4514  1591262419\n",
       "2     41.7587   63.4514  1591262419\n",
       "3     41.7587   63.4514  1591262419\n",
       "4     41.7587   63.4514  1591262419\n",
       "...       ...       ...         ...\n",
       "2155  41.7587   63.4514  1591262419\n",
       "2156  41.7587   63.4514  1591262419\n",
       "2157  41.7587   63.4514  1591262419\n",
       "2158  41.7587   63.4514  1591262419\n",
       "2159  41.7587   63.4514  1591262419\n",
       "\n",
       "[2160 rows x 3 columns]"
      ]
     },
     "execution_count": 21,
     "metadata": {},
     "output_type": "execute_result"
    }
   ],
   "source": [
    "ISS_df"
   ]
  },
  {
   "cell_type": "code",
   "execution_count": 22,
   "metadata": {},
   "outputs": [],
   "source": [
    "# Change values to integers from strings\n",
    "ISS_df['latitude'] = ISS_df['latitude'].astype(float)\n",
    "ISS_df['longitude'] = ISS_df['longitude'].astype(float)\n",
    "ISS_df['timestamp'] = ISS_df['timestamp'].astype(float)"
   ]
  },
  {
   "cell_type": "code",
   "execution_count": null,
   "metadata": {},
   "outputs": [],
   "source": []
  }
 ],
 "metadata": {
  "kernelspec": {
   "display_name": "geopd",
   "language": "python",
   "name": "geopd"
  },
  "language_info": {
   "codemirror_mode": {
    "name": "ipython",
    "version": 3
   },
   "file_extension": ".py",
   "mimetype": "text/x-python",
   "name": "python",
   "nbconvert_exporter": "python",
   "pygments_lexer": "ipython3",
   "version": "3.8.3"
  }
 },
 "nbformat": 4,
 "nbformat_minor": 4
}
